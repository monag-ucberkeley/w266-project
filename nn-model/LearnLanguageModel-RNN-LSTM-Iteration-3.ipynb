{
 "cells": [
  {
   "cell_type": "code",
   "execution_count": 1,
   "metadata": {
    "collapsed": false
   },
   "outputs": [
    {
     "name": "stdout",
     "output_type": "stream",
     "text": [
      "[nltk_data] Downloading package gutenberg to\n",
      "[nltk_data]     /home/sharmila_velamur/nltk_data...\n",
      "[nltk_data]   Package gutenberg is already up-to-date!\n"
     ]
    }
   ],
   "source": [
    "import json, os, re, shutil, sys, time, csv\n",
    "import collections, itertools\n",
    "\n",
    "# NLTK for NLP utils and corpora\n",
    "import nltk\n",
    "assert(nltk.download('gutenberg'))\n",
    "\n",
    "# NumPy and TensorFlow\n",
    "import numpy as np\n",
    "import tensorflow as tf\n",
    "assert(tf.__version__.startswith(\"1.\"))\n",
    "\n",
    "# utils.pretty_print_matrix uses Pandas. Configure float format here.\n",
    "import pandas as pd\n",
    "pd.set_option('float_format', lambda f: \"{0:.04f}\".format(f))\n",
    "\n",
    "# Helper libraries\n",
    "from shared_lib import utils, vocabulary, rnnlm\n"
   ]
  },
  {
   "cell_type": "code",
   "execution_count": 2,
   "metadata": {
    "collapsed": false,
    "scrolled": false
   },
   "outputs": [
    {
     "name": "stdout",
     "output_type": "stream",
     "text": [
      "61772067\n",
      "['love', \"'s\", 'meinie', '.', 'three', 'lectures', 'on', 'greek', 'and', 'english']\n",
      "['wings', 'speeded', 'like', 'thought', 'upon', 'the', 'light', 'of', 'heaven', '.']\n"
     ]
    }
   ],
   "source": [
    "canonicalized_words = []\n",
    "indir = '../preprocess/subset/'\n",
    "books = []\n",
    "for root, dirs, filenames in os.walk(indir):\n",
    "    for filename in filenames:\n",
    "        if filename.startswith('canonicalized_words_'):\n",
    "            with open(indir+filename, 'r') as f:\n",
    "                for line in f.readlines():\n",
    "                    w = line.rstrip()\n",
    "                    if w != '':\n",
    "                        canonicalized_words.append(w)\n",
    "num_words = len(canonicalized_words)\n",
    "print num_words\n",
    "print canonicalized_words[0:10]\n",
    "print canonicalized_words[num_words-10:num_words]"
   ]
  },
  {
   "cell_type": "code",
   "execution_count": 3,
   "metadata": {
    "collapsed": false
   },
   "outputs": [
    {
     "name": "stdout",
     "output_type": "stream",
     "text": [
      "Total Tokens:  61772067\n",
      "Total Types:  244260\n"
     ]
    }
   ],
   "source": [
    "from collections import Counter\n",
    "import operator\n",
    "\n",
    "tokens_dict = Counter()\n",
    "for w in canonicalized_words:\n",
    "    if w.startswith('DG') and w.endswith('DG'):\n",
    "        w = 'DG'\n",
    "    tokens_dict[w] += 1\n",
    "print \"Total Tokens: \", len(canonicalized_words)\n",
    "print \"Total Types: \", len(tokens_dict)"
   ]
  },
  {
   "cell_type": "code",
   "execution_count": 13,
   "metadata": {
    "collapsed": false
   },
   "outputs": [
    {
     "name": "stdout",
     "output_type": "stream",
     "text": [
      "a'body\t\n",
      "a'chun\ta'hm\ta'mici\ta'morley\ta'most\ta'onoexibeo\ta'ter\ta+b\ta-a-a\ta-a-a-a-a-h\ta-a-a-a-h\ta-a-a-a-men\ta-a-a-arm\ta-a-ah\ta-a-bc\ta-a-h\ta-a-i\ta-a-men\ta-all\ta-ask\t\n",
      "a-askin\ta-asking\ta-b\ta-b-abs\ta-b-c\ta-b-c-d\ta-back\ta-bang\ta-bangin\ta-barking\ta-batted\ta-baying\ta-beam\ta-beaming\ta-bear\ta-bearin\ta-beating\ta-become\ta-bed\ta-beefin\t\n",
      "a-beeing\ta-been\ta-beggin\ta-begging\ta-beggun\ta-believed\ta-bellow\ta-ben\ta-bendin\ta-berrying\ta-bilin\ta-biling\ta-bin\ta-birding\ta-birds-nesting\ta-black-berrying\ta-blackberrying\ta-blackin\ta-blazin\ta-blazing\t\n",
      "a-ble\ta-bleachin\ta-bleeding\ta-blink\ta-bloom\ta-blowing\ta-blubbering\ta-blueberrying\ta-blushing\ta-boilin\ta-boiling\ta-boomin\ta-booming\ta-borrying\ta-botherin\ta-bothering\ta-bout\ta-brac\ta-bragging\ta-branching\t\n",
      "a-breath\ta-brewdin\ta-brewin\ta-brewing\ta-bringin\ta-bristle\ta-brooding\ta-building\ta-burnin\ta-burning\ta-burying\ta-bussin\ta-bust\ta-busted\ta-busting\ta-buttin\ta-buyin\ta-buzz\ta-by\ta-c\t\n",
      "a-c-b\ta-c-d\ta-calking\ta-callin\ta-calling\ta-campin\ta-capering\ta-carried\ta-carryin\ta-casting\ta-caterwauling\ta-caught\ta-ch\ta-chargin\ta-charging\ta-chasin\ta-chasing\ta-chatter\ta-chawed\ta-cheerin\t\n",
      "a-chestnutting\ta-chipping\ta-chirpin\ta-chirping\ta-clawin\ta-cleaving\ta-climbing\ta-clutch\ta-cluttering\ta-cock-bill\ta-cold\ta-come\ta-comin\ta-coming\ta-cookin\ta-cooking\ta-coomin\ta-coughing\ta-court\ta-courtin\t\n",
      "a-courting\ta-crack\ta-crawl\ta-crawling\ta-creep\ta-cross\ta-cryin\ta-crying\ta-cuffin\ta-cum\ta-cursing\ta-cussin\ta-cussing\ta-cut\ta-cuttin\ta-cutting\ta-d\ta-dance\ta-dancing\ta-dangle\t\n",
      "a-day\ta-days\ta-dealing\ta-debt\ta-defyin\ta-delvin\ta-died\ta-dining\ta-dire\ta-disgorgin\ta-dobbin\ta-doin\ta-doing\ta-dollar\ta-done\ta-dooin\ta-down\ta-dozen\ta-dragging\ta-drawn\t\n",
      "a-dream\ta-dreamed\ta-dreaming\ta-drenching\ta-dressing\ta-driftin\ta-drinkin\ta-drinking\ta-drip\ta-drive\ta-drivin\ta-drooping\ta-dropping\ta-drowned\ta-drunk\ta-dry\ta-dryin\ta-duellin\ta-dust\ta-dwellin\t\n",
      "a-dying\ta-eating\ta-fallen\ta-fallin\ta-feedin\ta-feelin\ta-fetched\ta-fetchin\ta-field\ta-fightin\ta-fighting\ta-fire\ta-fishing\ta-fittin\ta-flame\ta-fleeting\ta-flinging\ta-flitting\ta-floatin\ta-floating\t\n",
      "a-flockin\ta-flooding\ta-flutter\ta-fluttering\ta-flyin\ta-flying\ta-fobbing\ta-follerin\ta-follering\ta-followin\ta-foolin\ta-fooling\ta-foot\ta-forcin\ta-forgotten\ta-fought\ta-found\ta-fraid\ta-freezn\ta-fret\t\n",
      "a-frightening\ta-front\ta-froth\ta-frozen\ta-fry\ta-fumbling\ta-futtun\ta-gabblin\ta-gadding\ta-gain\ta-gaining\ta-gainst\ta-gassin\ta-gawin\ta-gazing\ta-gettin\ta-getting\ta-gitt\ta-gittin\ta-given\t\n",
      "a-giving\ta-glamour\ta-gleam\ta-glimmer\ta-glitter\ta-glorifying\ta-glow\ta-glowing\ta-gog\ta-goin\ta-going\ta-gone\ta-gooin\ta-got\ta-graping\ta-grazing\ta-grin\ta-grinding\ta-grinning\ta-gronin\t\n",
      "a-grope\ta-groping\ta-ground\ta-growin\ta-growing\ta-growling\ta-guesting\ta-gunnin\ta-gunning\ta-gurgle\ta-gush\ta-gwine\ta-gwyne\ta-h\ta-h-ah\ta-h-o-y\ta-ha\ta-had\ta-half\ta-half-west\t\n",
      "a-hammerin\ta-hammering\ta-hand\ta-hangin\ta-hanging\ta-happened\ta-harrowin\ta-hatching\ta-hawking\ta-he\ta-head\ta-heard\ta-held\ta-hell-fire\ta-helpin\ta-hem\ta-hem-em\ta-here\ta-hikin\ta-hit\t\n",
      "a-hod\ta-hoi\ta-hold\ta-holdin\ta-holding\ta-holt\ta-honin\ta-hoping\ta-hoppin\ta-horse\ta-horseback\ta-howling\ta-hoy\ta-huckleberrying\ta-hummin\ta-humming\ta-humpin\ta-humping\ta-hundred-pounds-round-the-world\ta-hungered\t\n"
     ]
    }
   ],
   "source": [
    "t = ''\n",
    "tokens_list = sorted(tokens_dict)[840:1200]\n",
    "for i, w in enumerate(tokens_list):\n",
    "    t += w + '\\t'\n",
    "    if i % 20 is 0:\n",
    "        print t\n",
    "        t = ''\n",
    "    "
   ]
  },
  {
   "cell_type": "markdown",
   "metadata": {},
   "source": [
    "### Plotting the tokens and digging a bit deeper shows the first 2500 tokens are just adding a lot of noise to the data. We will start from 2503th token and proceed from there."
   ]
  },
  {
   "cell_type": "code",
   "execution_count": 14,
   "metadata": {
    "collapsed": false
   },
   "outputs": [
    {
     "name": "stdout",
     "output_type": "stream",
     "text": [
      "['!', '!!', '!!!', '!!!!', '!!!!!', '\"', '#', '##', '###', '#####']\n",
      "[\"a'body\", \"a'chun\", \"a'hm\", \"a'mici\", \"a'morley\", \"a'most\", \"a'onoexibeo\", \"a'ter\", 'a+b', 'a-a-a']\n"
     ]
    }
   ],
   "source": [
    "noisy_tokens = sorted(tokens_dict)[0:840]\n",
    "tokens_list = sorted(tokens_dict)[840:]\n",
    "print noisy_tokens[0:10]\n",
    "print tokens_list[0:10]"
   ]
  },
  {
   "cell_type": "code",
   "execution_count": 30,
   "metadata": {
    "collapsed": false
   },
   "outputs": [],
   "source": [
    "# Let's keep tokens_dict intact so we can look into the original set of tokens \n",
    "x = tokens_dict.copy()\n",
    "for noisy_token in noisy_tokens:\n",
    "    if x.has_key(noisy_token):\n",
    "        del x[noisy_token]\n",
    "tokens = sorted(x.items(), key=operator.itemgetter(1), reverse=True)"
   ]
  },
  {
   "cell_type": "code",
   "execution_count": 31,
   "metadata": {
    "collapsed": false
   },
   "outputs": [
    {
     "name": "stdout",
     "output_type": "stream",
     "text": [
      "Total unique tokens remaining after clean-up:  424584\n",
      "the :  8023153\n",
      "and :  4574772\n",
      "of :  4374737\n",
      "to :  3710837\n",
      "a :  2948180\n",
      "in :  2359086\n",
      "i :  2047810\n",
      "that :  1887948\n",
      "he :  1783154\n",
      "was :  1665368\n"
     ]
    }
   ],
   "source": [
    "print 'Total unique tokens remaining after clean-up: ', len(tokens)\n",
    "for word, count in tokens[0:10]:\n",
    "    print word, ': ', count"
   ]
  },
  {
   "cell_type": "code",
   "execution_count": 108,
   "metadata": {
    "collapsed": false
   },
   "outputs": [
    {
     "data": {
      "image/png": "[encoded data removed]",
      "text/plain": [
       "<matplotlib.figure.Figure at 0x7f872be10b50>"
      ]
     },
     "metadata": {},
     "output_type": "display_data"
    }
   ],
   "source": [
    "# the histogram of the data\n",
    "%matplotlib inline\n",
    "import matplotlib.mlab as mlab\n",
    "import pylab as pl\n",
    "import matplotlib.pyplot as plt\n",
    "\n",
    "results = tokens[0:100]\n",
    "    \n",
    "items = (np.array(results)[::-1].T)\n",
    "fig = pl.figure(figsize=(17,7))\n",
    "ax = pl.subplot(111)\n",
    "width=0.8\n",
    "ax.bar(range(len(items[0])), items[1], width=width)\n",
    "ax.set_xticks(np.arange(len(items[0])) + width/2)\n",
    "ax.set_xticklabels(items[0], rotation=90)\n",
    "\n",
    "pl.title(\"Distributions of Tokens\")\n",
    "pl.show()\n"
   ]
  },
  {
   "cell_type": "code",
   "execution_count": 109,
   "metadata": {
    "collapsed": false
   },
   "outputs": [
    {
     "data": {
      "image/png": "[encoded data removed]",
      "text/plain": [
       "<matplotlib.figure.Figure at 0x7f882b649310>"
      ]
     },
     "metadata": {},
     "output_type": "display_data"
    }
   ],
   "source": [
    "# the histogram of the data\n",
    "%matplotlib inline\n",
    "import matplotlib.mlab as mlab\n",
    "import pylab as pl\n",
    "import matplotlib.pyplot as plt\n",
    "\n",
    "results = tokens[100:200]\n",
    "    \n",
    "items = (np.array(results)[::-1].T)\n",
    "fig = pl.figure(figsize=(17,7))\n",
    "ax = pl.subplot(111)\n",
    "width=0.8\n",
    "ax.bar(range(len(items[0])), items[1], width=width)\n",
    "ax.set_xticks(np.arange(len(items[0])) + width/2)\n",
    "ax.set_xticklabels(items[0], rotation=90)\n",
    "\n",
    "pl.title(\"Distributions of Tokens\")\n",
    "pl.show()"
   ]
  },
  {
   "cell_type": "code",
   "execution_count": 15,
   "metadata": {
    "collapsed": false
   },
   "outputs": [],
   "source": [
    "noisy_tokens = set(noisy_tokens)\n",
    "words = [ w for w  in canonicalized_words if w not in noisy_tokens ]"
   ]
  },
  {
   "cell_type": "code",
   "execution_count": 16,
   "metadata": {
    "collapsed": false
   },
   "outputs": [
    {
     "name": "stdout",
     "output_type": "stream",
     "text": [
      "Number of tokens after removal of noisy tokens:  50695366\n"
     ]
    },
    {
     "data": {
      "text/plain": [
       "10000"
      ]
     },
     "execution_count": 16,
     "metadata": {},
     "output_type": "execute_result"
    }
   ],
   "source": [
    "print 'Number of tokens after removal of noisy tokens: ', len(words)\n",
    "## Generate the vocabulary\n",
    "V = 10000\n",
    "vocab = vocabulary.Vocabulary((word for word in words), size=V)\n",
    "vocab.size"
   ]
  },
  {
   "cell_type": "code",
   "execution_count": 7,
   "metadata": {
    "collapsed": false
   },
   "outputs": [
    {
     "name": "stdout",
     "output_type": "stream",
     "text": [
      "True\n",
      "True\n",
      "False\n"
     ]
    }
   ],
   "source": [
    "print vocab.wordset.issuperset('the')\n",
    "print vocab.wordset.issuperset('fawn')\n",
    "print vocab.wordset.issuperset('!')"
   ]
  },
  {
   "cell_type": "code",
   "execution_count": 17,
   "metadata": {
    "collapsed": false
   },
   "outputs": [
    {
     "name": "stdout",
     "output_type": "stream",
     "text": [
      "2947370\n",
      "['<s> For it has occurred to me that it is a good thing to have a Royal Treasurer who is made of money . </s>', '<s> What do you think ? \" </s>', '<s> \" I think , \" said the little Queen , smiling , \" that your friend must be the richest man in all the world . \" </s>', '<s> \" I am , \" returned the Scarecrow . </s>', '<s> \" but not on account of my money . </s>', '<s> For I consider brains far superior to money , in every way . </s>', '<s> You may have noticed that if one has money without brains , he can not use it to advantage ; but if one has brains without money , they will enable him to live comfortably to the end of his days . \" </s>', '<s> \" At the same time , \" declared the Tin Woodman , \" you must acknowledge that a good heart is a thing that brains can not create , and that money can not buy . </s>', '<s> Perhaps , after all , it is I who am the richest man in all the world . \" </s>', '<s> 286 \" You are both rich , my friends , \" said Ozma , gently ; \" and your riches are the only riches worth having -- the riches of content ! \" </s>']\n"
     ]
    }
   ],
   "source": [
    "sents = []\n",
    "indir = '../preprocess/subset/'\n",
    "books = []\n",
    "for root, dirs, filenames in os.walk(indir):\n",
    "    for filename in filenames:\n",
    "        if filename.startswith('parsed_sents_'):\n",
    "            with open(indir+filename, 'r') as f:\n",
    "                for line in f.readlines():\n",
    "                    sents.append(line.rstrip())\n",
    "num_sents = len(sents)\n",
    "print num_sents\n",
    "print sents[num_sents-10:num_sents]"
   ]
  },
  {
   "cell_type": "code",
   "execution_count": 18,
   "metadata": {
    "collapsed": false
   },
   "outputs": [
    {
     "name": "stdout",
     "output_type": "stream",
     "text": [
      "Loaded 2947370 sentences (3.53837e+08 tokens)\n",
      "Training set: 2357896 sentences (283108610 tokens)\n",
      "Test set: 589474 sentences (70728658 tokens)\n"
     ]
    }
   ],
   "source": [
    "split=0.8 \n",
    "shuffle=True\n",
    "\n",
    "\"\"\"Get train and test sentences.\n",
    "\n",
    "Args:\n",
    "  corpus: sentences parsed from the Gutenberg Contemporary Authors corpus\n",
    "  split (double): fraction to use as training set\n",
    "  shuffle (int or bool): seed for shuffle of input data, or False to just\n",
    "  take the training data as the first xx% contiguously.\n",
    "  train_sentences, test_sentences ( list(list(string)) ): the train and test splits\n",
    "\"\"\"\n",
    "\n",
    "sentences = np.array(sents, dtype=object)\n",
    "fmt = (len(sentences), sum(map(len, sentences)))\n",
    "print \"Loaded %d sentences (%g tokens)\" % fmt\n",
    "\n",
    "if shuffle:\n",
    "    rng = np.random.RandomState(shuffle)\n",
    "    rng.shuffle(sentences)  # in-place\n",
    "train_frac = 0.8\n",
    "split_idx = int(train_frac * len(sentences))\n",
    "train_sentences = sentences[:split_idx]\n",
    "test_sentences = sentences[split_idx:]\n",
    "\n",
    "fmt = (len(train_sentences), sum(map(len, train_sentences)))\n",
    "print \"Training set: %d sentences (%d tokens)\" % fmt\n",
    "fmt = (len(test_sentences), sum(map(len, test_sentences)))\n",
    "print \"Test set: %d sentences (%d tokens)\" % fmt\n"
   ]
  },
  {
   "cell_type": "code",
   "execution_count": 19,
   "metadata": {
    "collapsed": false
   },
   "outputs": [],
   "source": [
    "def preprocess_sentences(sentences, vocab):\n",
    "    \"\"\"Preprocess sentences by canonicalizing and mapping to ids.\n",
    "\n",
    "    Args:\n",
    "      sentences ( list(list(string)) ): input sentences\n",
    "      vocab: Vocabulary object, already initialized\n",
    "\n",
    "    Returns:\n",
    "      ids ( array(int) ): flattened array of sentences, including boundary <s>\n",
    "      tokens.\n",
    "    \"\"\"\n",
    "    # Add sentence boundaries, canonicalize, and handle unknowns\n",
    "    s_preprocess = []\n",
    "    for sentence in sentences:\n",
    "        s = [ utils.canonicalize_word(word, wordset=vocab.word_to_id) for word in sentence.split(\" \")]\n",
    "        s_preprocess.append(vocab.words_to_ids(s))\n",
    "\n",
    "    return np.array(s_preprocess) \n",
    "\n",
    "# ids = preprocess_sentences(corpus[193040:193045], vocab)\n",
    "# ids"
   ]
  },
  {
   "cell_type": "code",
   "execution_count": 20,
   "metadata": {
    "collapsed": false
   },
   "outputs": [
    {
     "name": "stdout",
     "output_type": "stream",
     "text": [
      "Preprocessing train sentences - number of batches:  47\n",
      "Batch:  0\n",
      "Batch:  1\n",
      "Batch:  2\n",
      "Batch:  3\n",
      "Batch:  4\n",
      "Batch:  5\n",
      "Batch:  6\n",
      "Batch:  7\n",
      "Batch:  8\n",
      "Batch:  9\n",
      "Batch:  10\n",
      "Batch:  11\n",
      "Batch:  12\n",
      "Batch:  13\n",
      "Batch:  14\n",
      "Batch:  15\n",
      "Batch:  16\n",
      "Batch:  17\n",
      "Batch:  18\n",
      "Batch:  19\n",
      "Batch:  20\n",
      "Batch:  21\n",
      "Batch:  22\n",
      "Batch:  23\n",
      "Batch:  24\n",
      "Batch:  25\n",
      "Batch:  26\n",
      "Batch:  27\n",
      "Batch:  28\n",
      "Batch:  29\n",
      "Batch:  30\n",
      "Batch:  31\n",
      "Batch:  32\n",
      "Batch:  33\n",
      "Batch:  34\n",
      "Batch:  35\n",
      "Batch:  36\n",
      "Batch:  37\n",
      "Batch:  38\n",
      "Batch:  39\n",
      "Batch:  40\n",
      "Batch:  41\n",
      "Batch:  42\n",
      "Batch:  43\n",
      "Batch:  44\n",
      "Batch:  45\n",
      "Batch:  46\n"
     ]
    }
   ],
   "source": [
    "## Preprocess sentences\n",
    "## convert words to ids based on the vocab wordset created above\n",
    "## Do this in batches to avoid crashes\n",
    "batch_size = 50000\n",
    "num_of_batches = int(round(len(train_sentences) / batch_size))\n",
    "print 'Preprocessing train sentences - number of batches: ', num_of_batches\n",
    "train_id_batches = []\n",
    "start = 0\n",
    "end = start + batch_size\n",
    "for i in range(num_of_batches): \n",
    "    print 'Batch: ', i\n",
    "    train_id_batches.append(preprocess_sentences(train_sentences[start:end], vocab))\n",
    "    start = end\n",
    "    end += batch_size\n"
   ]
  },
  {
   "cell_type": "code",
   "execution_count": 21,
   "metadata": {
    "collapsed": false
   },
   "outputs": [
    {
     "data": {
      "text/plain": [
       "array([   0,    3,  811,    5,    2, 2224,   66,    2,    1,    0])"
      ]
     },
     "execution_count": 21,
     "metadata": {},
     "output_type": "execute_result"
    }
   ],
   "source": [
    "# flatten the lists for 1D tensor\n",
    "temp = utils.flatten(train_id_batches)\n",
    "train_ids = utils.flatten(temp)\n",
    "train_ids = np.array(train_ids)\n",
    "train_ids[0:10]"
   ]
  },
  {
   "cell_type": "code",
   "execution_count": 22,
   "metadata": {
    "collapsed": false
   },
   "outputs": [
    {
     "name": "stdout",
     "output_type": "stream",
     "text": [
      "Preprocessing test sentences - number of batches:  10\n",
      "Batch:  0\n",
      "Batch:  1\n",
      "Batch:  2\n",
      "Batch:  3\n",
      "Batch:  4\n",
      "Batch:  5\n",
      "Batch:  6\n",
      "Batch:  7\n",
      "Batch:  8\n",
      "Batch:  9\n"
     ]
    }
   ],
   "source": [
    "batch_size = 50000\n",
    "num_of_batches = int(round(len(test_sentences) / batch_size))\n",
    "if num_of_batches > 10:\n",
    "    num_of_batches = 10\n",
    "print 'Preprocessing test sentences - number of batches: ', num_of_batches\n",
    "test_id_batches = []\n",
    "start = 0\n",
    "end = start + batch_size\n",
    "for i in range(num_of_batches): \n",
    "    print 'Batch: ', i\n",
    "    test_id_batches.append(preprocess_sentences(test_sentences[start:end], vocab))\n",
    "    start = end\n",
    "    end += batch_size"
   ]
  },
  {
   "cell_type": "code",
   "execution_count": 23,
   "metadata": {
    "collapsed": false
   },
   "outputs": [
    {
     "data": {
      "text/plain": [
       "array([  0,   2, 236,   2,  46,   2, 176,   2,   2,   1])"
      ]
     },
     "execution_count": 23,
     "metadata": {},
     "output_type": "execute_result"
    }
   ],
   "source": [
    "# flatten the lists for 1D tensor\n",
    "test_ids = utils.flatten(utils.flatten(test_id_batches))\n",
    "test_ids = np.array(test_ids)\n",
    "test_ids[0:10]"
   ]
  },
  {
   "cell_type": "code",
   "execution_count": 33,
   "metadata": {
    "collapsed": true
   },
   "outputs": [],
   "source": [
    "def run_epoch(lm, session, batch_iterator,\n",
    "              train=False, verbose=False,\n",
    "              tick_s=10, learning_rate=0.01):\n",
    "    start_time = time.time()\n",
    "    tick_time = start_time  # for showing status\n",
    "    total_cost = 0.0  # total cost, summed over all words\n",
    "    total_batches = 0\n",
    "    total_words = 0\n",
    "\n",
    "    if train:\n",
    "        train_op = lm.train_step_\n",
    "        use_dropout = True\n",
    "        loss = lm.train_loss_\n",
    "    else:\n",
    "        train_op = tf.no_op()\n",
    "        use_dropout = False  # no dropout at test time\n",
    "        loss = lm.loss_  # true loss, if train_loss is an approximation\n",
    "\n",
    "    for i, (w, y) in enumerate(batch_iterator):\n",
    "        cost = 0.0\n",
    "        \n",
    "        # At first batch in epoch, get a clean intitial state.\n",
    "        if i == 0:\n",
    "            h = session.run(lm.initial_h_, {lm.input_w_: w})\n",
    "\n",
    "        #### YOUR CODE HERE ####\n",
    "        feed_dict = {lm.input_w_:w,\n",
    "                     lm.target_y_:y,\n",
    "                     lm.initial_h_:h,\n",
    "                     lm.dropout_keep_prob_: 1.0}\n",
    "        \n",
    "        if train:\n",
    "            cost, train_op_ = session.run([lm.train_loss_, lm.train_step_], feed_dict)\n",
    "        else:\n",
    "            cost, train_op_ = session.run([lm.loss_, lm.train_step_], feed_dict)\n",
    "        ## print \"Calling computational graph\"\n",
    "        #cost, train_op_ = session.run([loss, train_op], feed_dict)\n",
    "        #### END(YOUR CODE) ####\n",
    "        total_cost += cost\n",
    "        total_batches = i + 1\n",
    "        total_words += w.size  # w.size = batch_size * max_time\n",
    "        \n",
    "        ##\n",
    "        # Print average loss-so-far for epoch\n",
    "        # If using train_loss_, this may be an underestimate.\n",
    "        if verbose and (time.time() - tick_time >= tick_s):\n",
    "            avg_cost = total_cost / total_batches\n",
    "            avg_wps = total_words / (time.time() - start_time)\n",
    "            print \"[batch %d]: seen %d words at %d wps, loss = %.3f\" % (\n",
    "                i, total_words, avg_wps, avg_cost)\n",
    "            tick_time = time.time()  # reset time ticker\n",
    "            \n",
    "        if total_cost <= 0.00001:\n",
    "            break\n",
    "\n",
    "    return total_cost / total_batches"
   ]
  },
  {
   "cell_type": "code",
   "execution_count": 34,
   "metadata": {
    "collapsed": true
   },
   "outputs": [],
   "source": [
    "def score_dataset(lm, session, ids, name=\"Data\"):\n",
    "    # For scoring, we can use larger batches to speed things up.\n",
    "    bi = utils.batch_generator(ids, batch_size=100, max_time=100)\n",
    "    cost = run_epoch(lm, session, bi, \n",
    "                     learning_rate=1.0, train=False, \n",
    "                     verbose=False, tick_s=3600)\n",
    "    print \"%s: avg. loss: %.03f  (perplexity: %.02f)\" % (name, cost, np.exp(cost))"
   ]
  },
  {
   "cell_type": "code",
   "execution_count": 35,
   "metadata": {
    "collapsed": true
   },
   "outputs": [],
   "source": [
    "max_time = 40\n",
    "batch_size = 64\n",
    "learning_rate = 0.1 #0.01\n",
    "num_epochs = 3\n",
    "\n",
    "# Model parameters\n",
    "model_params = dict(V=vocab.size, \n",
    "                    H=100, \n",
    "                    softmax_ns=200,\n",
    "                    num_layers=1)\n",
    "\n",
    "TF_SAVEDIR = \"tf_saved\"\n",
    "checkpoint_filename = os.path.join(TF_SAVEDIR, \"rnnlm\")\n",
    "trained_filename = os.path.join(TF_SAVEDIR, \"rnnlm_trained\")"
   ]
  },
  {
   "cell_type": "code",
   "execution_count": 37,
   "metadata": {
    "collapsed": false,
    "scrolled": false
   },
   "outputs": [],
   "source": [
    "reload(utils)\n",
    "# Will print status every this many seconds\n",
    "print_interval = 5\n",
    "\n",
    "# Clear old log directory\n",
    "shutil.rmtree(\"tf_summaries\", ignore_errors=True)\n",
    "\n",
    "lm = rnnlm.RNNLM(**model_params)\n",
    "lm.BuildCoreGraph()\n",
    "lm.BuildTrainGraph()\n",
    "\n",
    "# Explicitly add global initializer and variable saver to LM graph\n",
    "with lm.graph.as_default():\n",
    "    initializer = tf.global_variables_initializer()\n",
    "    saver = tf.train.Saver()\n",
    "    \n",
    "# Clear old log directory\n",
    "shutil.rmtree(TF_SAVEDIR, ignore_errors=True)\n",
    "if not os.path.isdir(TF_SAVEDIR):\n",
    "    os.makedirs(TF_SAVEDIR)\n"
   ]
  },
  {
   "cell_type": "code",
   "execution_count": null,
   "metadata": {
    "collapsed": false
   },
   "outputs": [
    {
     "name": "stdout",
     "output_type": "stream",
     "text": [
      "[epoch 1] Starting epoch 1\n"
     ]
    }
   ],
   "source": [
    "with tf.Session(graph=lm.graph) as session:\n",
    "    # Seed RNG for repeatability\n",
    "    tf.set_random_seed(42)\n",
    "    session.run(initializer)\n",
    "    bi = utils.batch_generator(train_ids, batch_size, max_time)\n",
    "    for epoch in xrange(1,num_epochs+1):\n",
    "        t0_epoch = time.time()\n",
    "        bi = utils.batch_generator(train_ids, batch_size, max_time)\n",
    "        print \"[epoch %d] Starting epoch %d\" % (epoch, epoch)\n",
    "        #### YOUR CODE HERE ####\n",
    "        # Run a training epoch.\n",
    "        \n",
    "        run_epoch(lm, session, bi, train=True, verbose=False,\n",
    "              tick_s=10,learning_rate=learning_rate)\n",
    "        \n",
    "        #### END(YOUR CODE) ####\n",
    "        print \"[epoch %d] Completed in %s\" % (epoch, utils.pretty_timedelta(since=t0_epoch))\n",
    "    \n",
    "        # Save a checkpoint\n",
    "        saver.save(session, checkpoint_filename, global_step=epoch)\n",
    "        ##\n",
    "        # score_dataset will run a forward pass over the entire dataset\n",
    "        # and report perplexity scores. This can be slow (around 1/2 to \n",
    "        # 1/4 as long as a full epoch), so you may want to comment it out\n",
    "        # to speed up training on a slow machine. Be sure to run it at the \n",
    "        # end to evaluate your score.\n",
    "        print (\"[epoch %d]\" % epoch),\n",
    "        score_dataset(lm, session, train_ids, name=\"Train set\")\n",
    "        print (\"[epoch %d]\" % epoch),\n",
    "        score_dataset(lm, session, test_ids, name=\"Test set\")\n",
    "        print \"\"\n",
    "    # Save final model\n",
    "    saver.save(session, trained_filename)"
   ]
  },
  {
   "cell_type": "code",
   "execution_count": null,
   "metadata": {
    "collapsed": false
   },
   "outputs": [],
   "source": [
    "def score_seq(lm, session, seq, vocab):\n",
    "    \"\"\"Score a sequence of words. Returns total log-probability.\"\"\"\n",
    "    padded_ids = vocab.words_to_ids(utils.canonicalize_words([\"<s>\"] + seq + [\"</s>\"], \n",
    "                                                             wordset=vocab.word_to_id))\n",
    "    w = np.reshape(padded_ids[:-1], [1,-1])\n",
    "    y = np.reshape(padded_ids[1:],  [1,-1])\n",
    "    h = session.run(lm.initial_h_, {lm.input_w_: w})\n",
    "    feed_dict = {lm.input_w_:w,\n",
    "                 lm.target_y_:y,\n",
    "                 lm.initial_h_:h,\n",
    "                 lm.dropout_keep_prob_: 1.0}\n",
    "    # Return log(P(seq)) = -1*loss\n",
    "    return -1*session.run(lm.loss_, feed_dict)\n",
    "\n",
    "def load_and_score(inputs, sort=False):\n",
    "    \"\"\"Load the trained model and score the given words.\"\"\"\n",
    "    lm = rnnlm.RNNLM(**model_params)\n",
    "    lm.BuildCoreGraph()\n",
    "    \n",
    "    with lm.graph.as_default():\n",
    "        saver = tf.train.Saver()\n",
    "\n",
    "    with tf.Session(graph=lm.graph) as session:  \n",
    "        # Load the trained model\n",
    "        saver.restore(session, trained_filename)\n",
    "\n",
    "        if isinstance(inputs[0], str) or isinstance(inputs[0], unicode):\n",
    "            inputs = [inputs]\n",
    "\n",
    "        # Actually run scoring\n",
    "        results = []\n",
    "        for words in inputs:\n",
    "            score = score_seq(lm, session, words, vocab)\n",
    "            results.append((score, words))\n",
    "\n",
    "        # Sort if requested\n",
    "        if sort: results = sorted(results, reverse=True)\n",
    "\n",
    "        # Print results\n",
    "        for score, words in results:\n",
    "            print \"\\\"%s\\\" : %.02f\" % (\" \".join(words), score)"
   ]
  },
  {
   "cell_type": "code",
   "execution_count": null,
   "metadata": {
    "collapsed": false
   },
   "outputs": [],
   "source": [
    "sents = [\"i shall be miserable if i have not an excellent library\",\n",
    "         \"to be fond of dancing was a certain step towards falling in love\",\n",
    "         \"don't let the door hit you on your way out\",\n",
    "         \"he was totally into it\",\n",
    "         \"to be or not to be\",\n",
    "         \"come on y'all, don't be like that!\",\n",
    "         \"get outta here\",\n",
    "        \"the market dropped significantly today\",\n",
    "        \"i do not fear computers, i fear the lack of them\"]\n",
    "load_and_score([s.split() for s in sents])"
   ]
  },
  {
   "cell_type": "code",
   "execution_count": null,
   "metadata": {
    "collapsed": true
   },
   "outputs": [],
   "source": [
    "def sample_step(lm, session, input_w, initial_h):\n",
    "    \"\"\"Run a single RNN step and return sampled predictions.\n",
    "  \n",
    "    Args:\n",
    "      lm : rnnlm.RNNLM\n",
    "      session: tf.Session\n",
    "      input_w : [batch_size] vector of indices\n",
    "      initial_h : [batch_size, hidden_dims] initial state\n",
    "    \n",
    "    Returns:\n",
    "      final_h : final hidden state, compatible with initial_h\n",
    "      samples : [batch_size, 1] vector of indices\n",
    "    \"\"\"\n",
    "    # Reshape input to column vector\n",
    "    input_w = np.array(input_w, dtype=np.int32).reshape([-1,1])\n",
    "  \n",
    "    #### YOUR CODE HERE ####\n",
    "    # Run sample ops\n",
    "    final_h, samples = session.run([lm.final_h_, lm.pred_samples_], \n",
    "        feed_dict={lm.input_w_: input_w, lm.initial_h_: initial_h, lm.dropout_keep_prob_:1.0, lm.learning_rate_:0.1})\n",
    "\n",
    "\n",
    "    #### END(YOUR CODE) ####\n",
    "    # Note indexing here: \n",
    "    #   [batch_size, max_time, 1] -> [batch_size, 1]\n",
    "    return final_h, samples[:,-1,:]\n",
    "\n",
    "\n",
    "\n"
   ]
  },
  {
   "cell_type": "code",
   "execution_count": null,
   "metadata": {
    "collapsed": true
   },
   "outputs": [],
   "source": []
  }
 ],
 "metadata": {
  "kernelspec": {
   "display_name": "Python 2",
   "language": "python",
   "name": "python2"
  },
  "language_info": {
   "codemirror_mode": {
    "name": "ipython",
    "version": 2
   },
   "file_extension": ".py",
   "mimetype": "text/x-python",
   "name": "python",
   "nbconvert_exporter": "python",
   "pygments_lexer": "ipython2",
   "version": "2.7.13"
  }
 },
 "nbformat": 4,
 "nbformat_minor": 2
}
